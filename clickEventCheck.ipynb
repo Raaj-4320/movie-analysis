{
 "cells": [
  {
   "cell_type": "code",
   "execution_count": 2,
   "metadata": {},
   "outputs": [
    {
     "name": "stdout",
     "output_type": "stream",
     "text": [
      "button clicked\n"
     ]
    }
   ],
   "source": [
    "import pandas as pd\n",
    "from selenium import webdriver\n",
    "from selenium.webdriver.chrome.service import Service as ChromeService\n",
    "from selenium.webdriver.chrome.options import Options as ChromeOptions\n",
    "from selenium.webdriver.common.by import By\n",
    "from selenium.webdriver.support.ui import WebDriverWait\n",
    "from selenium.webdriver.support import expected_conditions as EC\n",
    "from selenium.common.exceptions import TimeoutException\n",
    "from bs4 import BeautifulSoup\n",
    "import chromedriver_autoinstaller\n",
    "from selenium.webdriver.common.action_chains import ActionChains\n",
    "\n",
    "# Automatically install the correct version of chromedriver that matches the installed Chrome version\n",
    "chromedriver_autoinstaller.install()\n",
    "\n",
    "# Chrome options to set user-agent\n",
    "chrome_options = ChromeOptions()\n",
    "chrome_options.add_argument(\"user-agent=Mozilla/5.0 (Windows NT 10.0; Win64; x64) AppleWebKit/537.36 (KHTML, like Gecko) Chrome/91.0.4472.124 Safari/537.36\")\n",
    "\n",
    "# Chrome service\n",
    "chrome_service = ChromeService()\n",
    "\n",
    "# Initialize Chrome WebDriver\n",
    "driver = webdriver.Chrome(service=chrome_service, options=chrome_options)\n",
    "\n",
    "try:\n",
    "    # Open the webpage\n",
    "    driver.get('https://www.imdb.com/search/title/?genres=action')\n",
    "\n",
    "    # Wait until the button is clickable\n",
    "    wait = WebDriverWait(driver, 10)\n",
    "    more_button = wait.until(EC.element_to_be_clickable((By.XPATH, '//span[@class=\"ipc-see-more__text\" and text()=\"50 more\"]/ancestor::button')))\n",
    "\n",
    "    # Scroll into view and click the button\n",
    "    ActionChains(driver).move_to_element(more_button).perform()\n",
    "    more_button.click()\n",
    "\n",
    "    # If click is successful, print \"button clicked\"\n",
    "    print(\"button clicked\")\n",
    "\n",
    "except TimeoutException:\n",
    "    # If the button is not clickable within the timeout, print \"not clicked\"\n",
    "    print(\"not clicked\")\n",
    "\n",
    "finally:\n",
    "    # Close the WebDriver after all actions are performed\n",
    "    driver.quit()\n"
   ]
  },
  {
   "cell_type": "code",
   "execution_count": null,
   "metadata": {},
   "outputs": [],
   "source": []
  }
 ],
 "metadata": {
  "kernelspec": {
   "display_name": "Python 3",
   "language": "python",
   "name": "python3"
  },
  "language_info": {
   "codemirror_mode": {
    "name": "ipython",
    "version": 3
   },
   "file_extension": ".py",
   "mimetype": "text/x-python",
   "name": "python",
   "nbconvert_exporter": "python",
   "pygments_lexer": "ipython3",
   "version": "3.12.3"
  }
 },
 "nbformat": 4,
 "nbformat_minor": 2
}
