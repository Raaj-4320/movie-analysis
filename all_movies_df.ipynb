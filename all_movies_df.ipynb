{
 "cells": [
  {
   "cell_type": "code",
   "execution_count": 717,
   "metadata": {},
   "outputs": [],
   "source": [
    "import pandas as pd\n",
    "import re\n",
    "import nltk\n",
    "from nltk.corpus import stopwords\n",
    "from sklearn.metrics.pairwise import cosine_similarity\n",
    "from sklearn.feature_extraction.text import TfidfVectorizer"
   ]
  },
  {
   "cell_type": "code",
   "execution_count": 703,
   "metadata": {},
   "outputs": [
    {
     "name": "stderr",
     "output_type": "stream",
     "text": [
      "[nltk_data] Downloading package wordnet to\n",
      "[nltk_data]     C:\\Users\\rajgo\\AppData\\Roaming\\nltk_data...\n",
      "[nltk_data]   Package wordnet is already up-to-date!\n"
     ]
    },
    {
     "data": {
      "text/plain": [
       "True"
      ]
     },
     "execution_count": 703,
     "metadata": {},
     "output_type": "execute_result"
    }
   ],
   "source": [
    "nltk.download('wordnet')"
   ]
  },
  {
   "cell_type": "code",
   "execution_count": 704,
   "metadata": {},
   "outputs": [
    {
     "name": "stderr",
     "output_type": "stream",
     "text": [
      "[nltk_data] Downloading package stopwords to\n",
      "[nltk_data]     C:\\Users\\rajgo\\AppData\\Roaming\\nltk_data...\n",
      "[nltk_data]   Package stopwords is already up-to-date!\n"
     ]
    },
    {
     "data": {
      "text/plain": [
       "True"
      ]
     },
     "execution_count": 704,
     "metadata": {},
     "output_type": "execute_result"
    }
   ],
   "source": [
    "nltk.download('stopwords')"
   ]
  },
  {
   "cell_type": "code",
   "execution_count": 630,
   "metadata": {},
   "outputs": [],
   "source": [
    "drama = pd.read_csv('drama_movie_df.csv')"
   ]
  },
  {
   "cell_type": "code",
   "execution_count": 631,
   "metadata": {},
   "outputs": [],
   "source": [
    "horror = pd.read_csv('horror_713_movies_df.csv')"
   ]
  },
  {
   "cell_type": "code",
   "execution_count": 632,
   "metadata": {},
   "outputs": [],
   "source": [
    "horror2 = pd.read_csv('horror_before_713_movie_df.csv')"
   ]
  },
  {
   "cell_type": "code",
   "execution_count": 633,
   "metadata": {},
   "outputs": [],
   "source": [
    "mystery = pd.read_csv('mystery_movie_df.csv')"
   ]
  },
  {
   "cell_type": "code",
   "execution_count": 634,
   "metadata": {},
   "outputs": [],
   "source": [
    "thriller = pd.read_csv('thriller_movie_df.csv')"
   ]
  },
  {
   "cell_type": "code",
   "execution_count": 635,
   "metadata": {},
   "outputs": [],
   "source": [
    "scifi = pd.read_csv('scifi_movie_df.csv')"
   ]
  },
  {
   "cell_type": "code",
   "execution_count": 636,
   "metadata": {},
   "outputs": [],
   "source": [
    "war = pd.read_csv('war_movie_df.csv')"
   ]
  },
  {
   "cell_type": "code",
   "execution_count": 760,
   "metadata": {},
   "outputs": [],
   "source": [
    "action = pd.read_csv('action_movie_df.csv')"
   ]
  },
  {
   "cell_type": "code",
   "execution_count": 761,
   "metadata": {},
   "outputs": [],
   "source": [
    "comedy = pd.read_csv('comedy_movie_df.csv')"
   ]
  },
  {
   "cell_type": "code",
   "execution_count": 762,
   "metadata": {},
   "outputs": [],
   "source": [
    "fantasy = pd.read_csv('fantasy_movie_df.csv')"
   ]
  },
  {
   "cell_type": "code",
   "execution_count": 763,
   "metadata": {},
   "outputs": [],
   "source": [
    "documentary = pd.read_csv('documentary_movie_df.csv')"
   ]
  },
  {
   "cell_type": "code",
   "execution_count": 764,
   "metadata": {},
   "outputs": [],
   "source": [
    "romance1 = pd.read_csv('romance_movie_df1.csv')"
   ]
  },
  {
   "cell_type": "code",
   "execution_count": null,
   "metadata": {},
   "outputs": [],
   "source": [
    "western = pd.read_csv('western_movie_df.csv')"
   ]
  },
  {
   "cell_type": "code",
   "execution_count": 637,
   "metadata": {},
   "outputs": [],
   "source": [
    "all_movies = pd.concat([drama, horror, horror2, mystery, thriller, scifi, war], axis=0)"
   ]
  },
  {
   "cell_type": "code",
   "execution_count": 638,
   "metadata": {},
   "outputs": [],
   "source": [
    "all_movies.drop_duplicates(subset=['Movie ID'], inplace=True)\n"
   ]
  },
  {
   "cell_type": "code",
   "execution_count": 639,
   "metadata": {},
   "outputs": [],
   "source": [
    "all_movies = all_movies.sample(frac=1).reset_index(drop=True)"
   ]
  },
  {
   "cell_type": "code",
   "execution_count": 640,
   "metadata": {},
   "outputs": [],
   "source": [
    "df = all_movies "
   ]
  },
  {
   "cell_type": "markdown",
   "metadata": {},
   "source": [
    "### Data Cleaning"
   ]
  },
  {
   "cell_type": "code",
   "execution_count": 710,
   "metadata": {},
   "outputs": [
    {
     "data": {
      "text/plain": [
       "Index(['Movie ID', 'Title', 'IMDB Rating', 'Directors', 'Writers', 'Stars',\n",
       "       'Storyline', 'Origin Countries', 'Languages', 'Budget',\n",
       "       'Gross Worldwide', 'Runtime', 'Genres', 'IMDB Ratings', 'tags',\n",
       "       'processed_tags'],\n",
       "      dtype='object')"
      ]
     },
     "execution_count": 710,
     "metadata": {},
     "output_type": "execute_result"
    }
   ],
   "source": [
    "df.columns"
   ]
  },
  {
   "cell_type": "code",
   "execution_count": 641,
   "metadata": {},
   "outputs": [],
   "source": [
    "df.drop(columns=['Unnamed: 0'], inplace=True)"
   ]
  },
  {
   "cell_type": "code",
   "execution_count": 642,
   "metadata": {},
   "outputs": [],
   "source": [
    "df['Writers'] = df['Writers'].str.replace('noneWriters', '')"
   ]
  },
  {
   "cell_type": "code",
   "execution_count": 643,
   "metadata": {},
   "outputs": [],
   "source": [
    "df['Stars'] = df['Stars'].str.replace('noneStars', '')\n"
   ]
  },
  {
   "cell_type": "code",
   "execution_count": 644,
   "metadata": {},
   "outputs": [],
   "source": [
    "df.drop(columns=['Release Date'], inplace=True)"
   ]
  },
  {
   "cell_type": "code",
   "execution_count": 648,
   "metadata": {},
   "outputs": [],
   "source": [
    "df.fillna('', inplace=True)"
   ]
  },
  {
   "cell_type": "markdown",
   "metadata": {},
   "source": [
    "### Converting the tag columns to string datatype"
   ]
  },
  {
   "cell_type": "code",
   "execution_count": 649,
   "metadata": {},
   "outputs": [],
   "source": [
    "df['Writers'] = df['Writers'].astype(str)\n",
    "df['Directors'] = df['Directors'].astype(str)\n",
    "df['Stars'] = df['Stars'].astype(str)\n",
    "df['Languages'] = df['Languages'].astype(str)\n",
    "df['Title'] = df['Title'].astype(str)\n",
    "df['Origin Countries'] = df['Origin Countries'].astype(str)\n",
    "df['Storyline'] = df['Storyline'].astype(str)\n",
    "df['Genres'] = df['Genres'].astype(str)\n",
    "df['IMDB Ratings'] = df['IMDB Rating'].astype(str)"
   ]
  },
  {
   "cell_type": "markdown",
   "metadata": {},
   "source": [
    "### removing \\u200b from writers, directors, stars"
   ]
  },
  {
   "cell_type": "code",
   "execution_count": 650,
   "metadata": {},
   "outputs": [],
   "source": [
    "df['Writers'] = df['Writers'].str.replace('\\u200b', '')\n",
    "df['Directors'] = df['Directors'].str.replace('\\u200b','')\n",
    "df['Stars'] = df['Stars'].str.replace('\\u200b','')"
   ]
  },
  {
   "cell_type": "markdown",
   "metadata": {},
   "source": [
    "### Join names together"
   ]
  },
  {
   "cell_type": "code",
   "execution_count": 654,
   "metadata": {},
   "outputs": [],
   "source": [
    "df['Directors'] = df['Directors'].apply(lambda names: ''.join([name.replace(' ', '') for name in names]))\n",
    "df['Writers'] = df['Writers'].apply(lambda names: ''.join([name.replace(' ', '') for name in names]))\n",
    "df['Stars'] = df['Stars'].apply(lambda names: ''.join([name.replace(' ', '') for name in names]))\n",
    "df['Origin Countries'] = df['Origin Countries'].apply(lambda names: ''.join([name.replace(' ', '') for name in names]))"
   ]
  },
  {
   "cell_type": "markdown",
   "metadata": {},
   "source": [
    "### Cleaning the text of Writers, Directors, Stars, Origin Countries"
   ]
  },
  {
   "cell_type": "code",
   "execution_count": 656,
   "metadata": {},
   "outputs": [],
   "source": [
    "def clean_text(text):\n",
    "    cleaned_text = text.replace(',', ' ')\n",
    "    return cleaned_text\n",
    "\n",
    "# Apply clean_writers function to 'Writers' column\n",
    "df['Writers'] = df['Writers'].apply(clean_text)\n",
    "df['Directors'] = df['Directors'].apply(clean_text)\n",
    "df['Stars'] = df['Stars'].apply(clean_text)\n",
    "df['Origin Countries'] = df['Origin Countries'].apply(clean_text)"
   ]
  },
  {
   "cell_type": "markdown",
   "metadata": {},
   "source": [
    "### "
   ]
  },
  {
   "cell_type": "markdown",
   "metadata": {},
   "source": [
    "\n",
    "### Creating tags column the important columns"
   ]
  },
  {
   "cell_type": "code",
   "execution_count": 695,
   "metadata": {},
   "outputs": [],
   "source": [
    "df['tags'] =  df['Directors'] + ' ' + df['Languages'] + ' ' + df['Genres'] + ' ' + df['Writers'] + ' ' + df['Stars'] + ' ' + df['Origin Countries'] + ' ' + df['Storyline']\n"
   ]
  },
  {
   "cell_type": "markdown",
   "metadata": {},
   "source": [
    "### Removing the commas from tags"
   ]
  },
  {
   "cell_type": "code",
   "execution_count": 696,
   "metadata": {},
   "outputs": [],
   "source": [
    "def remove_commas(text):\n",
    "    return text.replace(',', '').replace('-', '')"
   ]
  },
  {
   "cell_type": "code",
   "execution_count": 697,
   "metadata": {},
   "outputs": [],
   "source": [
    "df['tags'] = df['tags'].apply(remove_commas)"
   ]
  },
  {
   "cell_type": "markdown",
   "metadata": {},
   "source": [
    "### converting the tags to lowecase"
   ]
  },
  {
   "cell_type": "code",
   "execution_count": 698,
   "metadata": {},
   "outputs": [],
   "source": [
    "df['tags'] = df['tags'].str.lower()"
   ]
  },
  {
   "cell_type": "markdown",
   "metadata": {},
   "source": [
    "### Remove extra spaces from the string"
   ]
  },
  {
   "cell_type": "code",
   "execution_count": 699,
   "metadata": {},
   "outputs": [],
   "source": [
    "def clean_text(text):\n",
    "    # Remove commas\n",
    "    text = text.replace(',', '')\n",
    "    # Remove leading and trailing whitespace\n",
    "    text = text.strip()\n",
    "    # Replace multiple consecutive spaces with a single space\n",
    "    text = re.sub(r'\\s+', ' ', text)\n",
    "    return text\n",
    "\n",
    "# Apply the clean_text function to the 'tags' column\n",
    "df['tags'] = df['tags'].apply(clean_text)"
   ]
  },
  {
   "cell_type": "code",
   "execution_count": 709,
   "metadata": {},
   "outputs": [
    {
     "data": {
      "text/plain": [
       "264"
      ]
     },
     "execution_count": 709,
     "metadata": {},
     "output_type": "execute_result"
    }
   ],
   "source": [
    "len(df['tags'][0])"
   ]
  },
  {
   "cell_type": "markdown",
   "metadata": {},
   "source": [
    "### Removing stopwords from the string"
   ]
  },
  {
   "cell_type": "code",
   "execution_count": 706,
   "metadata": {},
   "outputs": [],
   "source": [
    "# Preprocessing function to remove stop words\n",
    "def preprocess_text_remove_stopwords(text):\n",
    "    # Convert to lowercase\n",
    "    text = text.lower()\n",
    "    # Remove punctuation\n",
    "    text = re.sub(r'[^\\w\\s]', '', text)\n",
    "    # Tokenize the text\n",
    "    words = text.split()\n",
    "    # Remove stop words\n",
    "    stop_words = set(stopwords.words('english'))\n",
    "    filtered_words = [word for word in words if word not in stop_words]\n",
    "    # Join words back into a single string\n",
    "    processed_text = ' '.join(filtered_words)\n",
    "    return processed_text\n",
    "\n",
    "# Apply the preprocessing function to the 'tags' column\n",
    "df['processed_tags'] = df['tags'].apply(preprocess_text_remove_stopwords)"
   ]
  },
  {
   "cell_type": "code",
   "execution_count": 708,
   "metadata": {},
   "outputs": [
    {
     "data": {
      "text/plain": [
       "228"
      ]
     },
     "execution_count": 708,
     "metadata": {},
     "output_type": "execute_result"
    }
   ],
   "source": [
    "len(df['processed_tags'][0])"
   ]
  },
  {
   "cell_type": "code",
   "execution_count": 711,
   "metadata": {},
   "outputs": [],
   "source": [
    "df.rename(columns = {'Movie ID':'movie_id', \n",
    "                     'Title':'movie_title',\n",
    "                     'IMDB Rating':'imdb_rating',\n",
    "                     'Directors':'directors',\n",
    "                     'Writers':'writers',\n",
    "                     'Stars':'stars',\n",
    "                     'Storyline':'storyline',\n",
    "                     'Origin Countries':\n",
    "                     'origin_countries',\n",
    "                     'Language':'language',\n",
    "                     'Budget':'budget',\n",
    "                     'Gross Worldwide':'gross_worldwide',\n",
    "                     'Runtime':'runtime',\n",
    "                     'Genres':'genres',}, inplace = True)"
   ]
  },
  {
   "cell_type": "code",
   "execution_count": 724,
   "metadata": {},
   "outputs": [
    {
     "data": {
      "text/plain": [
       "Index(['movie_id', 'movie_title', 'imdb_rating', 'directors', 'writers',\n",
       "       'stars', 'storyline', 'origin_countries', 'Languages', 'budget',\n",
       "       'gross_worldwide', 'runtime', 'genres', 'IMDB Ratings', 'tags',\n",
       "       'processed_tags'],\n",
       "      dtype='object')"
      ]
     },
     "execution_count": 724,
     "metadata": {},
     "output_type": "execute_result"
    }
   ],
   "source": [
    "df.columns"
   ]
  },
  {
   "cell_type": "code",
   "execution_count": 756,
   "metadata": {},
   "outputs": [
    {
     "data": {
      "text/html": [
       "<div>\n",
       "<style scoped>\n",
       "    .dataframe tbody tr th:only-of-type {\n",
       "        vertical-align: middle;\n",
       "    }\n",
       "\n",
       "    .dataframe tbody tr th {\n",
       "        vertical-align: top;\n",
       "    }\n",
       "\n",
       "    .dataframe thead th {\n",
       "        text-align: right;\n",
       "    }\n",
       "</style>\n",
       "<table border=\"1\" class=\"dataframe\">\n",
       "  <thead>\n",
       "    <tr style=\"text-align: right;\">\n",
       "      <th></th>\n",
       "      <th>movie_id</th>\n",
       "      <th>movie_title</th>\n",
       "      <th>imdb_rating</th>\n",
       "      <th>directors</th>\n",
       "      <th>writers</th>\n",
       "      <th>stars</th>\n",
       "      <th>storyline</th>\n",
       "      <th>origin_countries</th>\n",
       "      <th>Languages</th>\n",
       "      <th>budget</th>\n",
       "      <th>gross_worldwide</th>\n",
       "      <th>runtime</th>\n",
       "      <th>genres</th>\n",
       "      <th>IMDB Ratings</th>\n",
       "      <th>tags</th>\n",
       "      <th>processed_tags</th>\n",
       "    </tr>\n",
       "  </thead>\n",
       "  <tbody>\n",
       "    <tr>\n",
       "      <th>0</th>\n",
       "      <td>tt11762434</td>\n",
       "      <td>Cosmic Sin</td>\n",
       "      <td>2.5</td>\n",
       "      <td>EdwardDrake</td>\n",
       "      <td>EdwardDrake CoreyLarge</td>\n",
       "      <td>FrankGrillo BruceWillis BrandonThomasLee</td>\n",
       "      <td>Seven rogue soldiers launch a preemptive strike against a newly discovered alien civilization in the hopes of ending an interstellar war before it starts.</td>\n",
       "      <td>UnitedStates</td>\n",
       "      <td>English</td>\n",
       "      <td></td>\n",
       "      <td>$349,757</td>\n",
       "      <td>1 hour 28 minutes</td>\n",
       "      <td>Action, Sci-Fi</td>\n",
       "      <td>2.5</td>\n",
       "      <td>edwarddrake english action scifi edwarddrake coreylarge frankgrillo brucewillis brandonthomaslee unitedstates seven rogue soldiers launch a preemptive strike against a newly discovered alien civilization in the hopes of ending an interstellar war before it starts.</td>\n",
       "      <td>edwarddrake english action scifi edwarddrake coreylarge frankgrillo brucewillis brandonthomaslee unitedstates seven rogue soldiers launch preemptive strike newly discovered alien civilization hopes ending interstellar war starts</td>\n",
       "    </tr>\n",
       "  </tbody>\n",
       "</table>\n",
       "</div>"
      ],
      "text/plain": [
       "     movie_id movie_title imdb_rating    directors                 writers  \\\n",
       "0  tt11762434  Cosmic Sin         2.5  EdwardDrake  EdwardDrake CoreyLarge   \n",
       "\n",
       "                                        stars  \\\n",
       "0   FrankGrillo BruceWillis BrandonThomasLee    \n",
       "\n",
       "                                                                                                                                                    storyline  \\\n",
       "0  Seven rogue soldiers launch a preemptive strike against a newly discovered alien civilization in the hopes of ending an interstellar war before it starts.   \n",
       "\n",
       "  origin_countries Languages budget gross_worldwide            runtime  \\\n",
       "0     UnitedStates   English               $349,757  1 hour 28 minutes   \n",
       "\n",
       "           genres IMDB Ratings  \\\n",
       "0  Action, Sci-Fi          2.5   \n",
       "\n",
       "                                                                                                                                                                                                                                                                       tags  \\\n",
       "0  edwarddrake english action scifi edwarddrake coreylarge frankgrillo brucewillis brandonthomaslee unitedstates seven rogue soldiers launch a preemptive strike against a newly discovered alien civilization in the hopes of ending an interstellar war before it starts.   \n",
       "\n",
       "                                                                                                                                                                                                                         processed_tags  \n",
       "0  edwarddrake english action scifi edwarddrake coreylarge frankgrillo brucewillis brandonthomaslee unitedstates seven rogue soldiers launch preemptive strike newly discovered alien civilization hopes ending interstellar war starts  "
      ]
     },
     "execution_count": 756,
     "metadata": {},
     "output_type": "execute_result"
    }
   ],
   "source": [
    "df.head(1)"
   ]
  },
  {
   "cell_type": "markdown",
   "metadata": {},
   "source": [
    "### IFIDF vectorizing the words"
   ]
  },
  {
   "cell_type": "code",
   "execution_count": 718,
   "metadata": {},
   "outputs": [],
   "source": [
    "# Vectorize the 'processed_tags' column\n",
    "tfidf_vectorizer = TfidfVectorizer()\n",
    "tfidf_matrix = tfidf_vectorizer.fit_transform(df['processed_tags'])"
   ]
  },
  {
   "cell_type": "code",
   "execution_count": 719,
   "metadata": {},
   "outputs": [],
   "source": [
    "cosine_sim = cosine_similarity(tfidf_matrix, tfidf_matrix)"
   ]
  },
  {
   "cell_type": "code",
   "execution_count": 726,
   "metadata": {},
   "outputs": [
    {
     "name": "stdout",
     "output_type": "stream",
     "text": [
      "[[0. 0. 0. ... 0. 0. 0.]\n",
      " [0. 0. 0. ... 0. 0. 0.]\n",
      " [0. 0. 0. ... 0. 0. 0.]\n",
      " ...\n",
      " [0. 0. 0. ... 0. 0. 0.]\n",
      " [0. 0. 0. ... 0. 0. 0.]\n",
      " [0. 0. 0. ... 0. 0. 0.]]\n"
     ]
    }
   ],
   "source": [
    "print(tfidf_matrix.toarray())"
   ]
  },
  {
   "cell_type": "code",
   "execution_count": 727,
   "metadata": {},
   "outputs": [
    {
     "name": "stdout",
     "output_type": "stream",
     "text": [
      "['000mile' '0068' '007' ... 'öznur' 'ørjangamst' 'ümitacar']\n"
     ]
    }
   ],
   "source": [
    "print(tfidf_vectorizer.get_feature_names_out())\n"
   ]
  },
  {
   "cell_type": "markdown",
   "metadata": {},
   "source": [
    "## 1."
   ]
  },
  {
   "cell_type": "code",
   "execution_count": 749,
   "metadata": {},
   "outputs": [],
   "source": [
    "import pandas as pd\n",
    "\n",
    "# Function to get movie recommendations based on content similarity using movie title\n",
    "def get_content_based_recommendations(movie_title, cosine_sim=cosine_sim):\n",
    "    # Find the movie ID based on the title\n",
    "    movie_id = df[df['movie_title'] == movie_title]['movie_id'].values[0]\n",
    "    \n",
    "    # Get the index of the movie that matches the movie ID\n",
    "    idx = df[df['movie_id'] == movie_id].index[0]\n",
    "    \n",
    "    # Get the pairwise similarity scores of all movies with that movie\n",
    "    sim_scores = list(enumerate(cosine_sim[idx]))\n",
    "    \n",
    "    # Sort the movies based on the similarity scores\n",
    "    sim_scores = sorted(sim_scores, key=lambda x: x[1], reverse=True)\n",
    "    \n",
    "    # Get the scores of the 10 most similar movies\n",
    "    sim_scores = sim_scores[1:11]  # Exclude the first entry since it will be the movie itself\n",
    "    \n",
    "    # Get the movie indices\n",
    "    movie_indices = [i[0] for i in sim_scores]\n",
    "    \n",
    "    # Return the top 10 most similar movies, filtering by similar genres\n",
    "    movie_genres = df[df['movie_title'] == movie_title]['genres'].values[0]\n",
    "    similar_movies = df.iloc[movie_indices]\n",
    "    \n",
    "    # Filter similar movies by genres\n",
    "    similar_movies_filtered = similar_movies[similar_movies['genres'].apply(lambda x: any(genre in x for genre in movie_genres))]\n",
    "    \n",
    "    \n",
    "    # Return movie titles and processed tags of the top similar movies as a DataFrame\n",
    "    return similar_movies_filtered[['movie_title', 'processed_tags']]\n",
    "\n"
   ]
  },
  {
   "cell_type": "code",
   "execution_count": 759,
   "metadata": {},
   "outputs": [
    {
     "name": "stdout",
     "output_type": "stream",
     "text": [
      "                          movie_title  \\\n",
      "6849                       Inside Out   \n",
      "14337                     Thundercats   \n",
      "13032    The Secret World of Arrietty   \n",
      "15296                         Wildcat   \n",
      "2608                    Baby Driver 2   \n",
      "6056                             Otis   \n",
      "3316                     Isle of Dogs   \n",
      "5205                        The Abyss   \n",
      "11322  The Strongest Man in the World   \n",
      "15303                     Toy Story 5   \n",
      "\n",
      "                                                                                                                                                                                                                                                                                                                                                                                                                     processed_tags  \n",
      "6849                                                                                                                 petedocter ronniedelcarmen english portuguese latvian animation adventure comedy petedocter ronniedelcarmen meglefauve amypoehler billhader lewisblack unitedstates young riley uprooted midwest life moved san francisco emotions joy fear anger disgust sadness conflict best navigate new city house school  \n",
      "14337                                                                                                                                                                                                                                                                                                                                                                                                    animation action adventure  \n",
      "13032                                                                                                                    hiromasayonebayashi japanese animation adventure drama marynorton hayaomiyazaki keikoniwa bridgitmendler amypoehler willarnett japan clock family fourinchtall people live anonymously another familys residence borrowing simple items make home life changes clocks teenage daughter arrietty discovered  \n",
      "15296                                                                                                                                                                                                                                              ethanhawke english biography drama shelbygaines ethanhawke mayahawke lauralinney philipettinger unitedstates follows life writer flannery oconnor struggling publish first novel  \n",
      "2608                                                                                                                                                                                                                                                                                                                                                                                                        action adventure comedy  \n",
      "6056   tonykrantz english comedy crime horror erikjendresen thomasschnauz tarahpaige bostinchristopher ashleyjohnson unitedstates suburban america gone haywire midst serial abductorkillers rampage beautiful young teen riley lawson goes missing desperate parents kate contacted kidnapper insufferable fbi special agent takes charge casebut deep within psychopathic subterranean world created otis riley turns tables read  \n",
      "3316                                                                                                                                                                                      wesanderson english japanese animation adventure comedy wesanderson romancoppola jasonschwartzman bryancranston koyurankin edwardnorton unitedkingdom germany japan unitedstates set japan isle dogs follows boys odyssey search lost dog  \n",
      "5205                                                                                                                                                                                             jamescameron english adventure drama mystery jamescameron edharris maryelizabethmastrantonio michaelbiehn unitedstates civilian diving team enlisted search lost nuclear submarine faces danger encountering alien aquatic species  \n",
      "11322                                                                                                                                                                                        vincentmceveety english comedy family scifi josephlmceveety hermangroves kurtrussell joeflynn evearden unitedstates dexter riley friends accidently discover new chemical mixed cereal seems give anyone temporary superhuman strength  \n",
      "15303                                                                                                                                                                                                                                                                                                                     andrewstanton english animation adventure comedy blakeclark andrewstanton unitedstates japan plot unknown  \n"
     ]
    }
   ],
   "source": [
    "\n",
    "# Example usage\n",
    "similar_movies_df = get_content_based_recommendations('Inside Out 2')\n",
    "print(similar_movies_df)"
   ]
  },
  {
   "cell_type": "code",
   "execution_count": null,
   "metadata": {},
   "outputs": [],
   "source": []
  },
  {
   "cell_type": "code",
   "execution_count": null,
   "metadata": {},
   "outputs": [],
   "source": []
  },
  {
   "cell_type": "code",
   "execution_count": null,
   "metadata": {},
   "outputs": [],
   "source": []
  }
 ],
 "metadata": {
  "kernelspec": {
   "display_name": "Python 3",
   "language": "python",
   "name": "python3"
  },
  "language_info": {
   "codemirror_mode": {
    "name": "ipython",
    "version": 3
   },
   "file_extension": ".py",
   "mimetype": "text/x-python",
   "name": "python",
   "nbconvert_exporter": "python",
   "pygments_lexer": "ipython3",
   "version": "3.12.3"
  }
 },
 "nbformat": 4,
 "nbformat_minor": 2
}
