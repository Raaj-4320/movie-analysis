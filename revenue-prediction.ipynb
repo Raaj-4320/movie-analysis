{
 "cells": [
  {
   "cell_type": "code",
   "id": "initial_id",
   "metadata": {
    "collapsed": true,
    "ExecuteTime": {
     "end_time": "2024-06-28T01:13:42.837793Z",
     "start_time": "2024-06-28T01:13:42.361474Z"
    }
   },
   "source": "import pandas as pd",
   "outputs": [],
   "execution_count": 4
  },
  {
   "metadata": {
    "ExecuteTime": {
     "end_time": "2024-06-28T01:14:07.512842Z",
     "start_time": "2024-06-28T01:14:07.193589Z"
    }
   },
   "cell_type": "code",
   "source": "df = pd.read_csv('./main_df.csv')",
   "id": "3b315cea5437de6a",
   "outputs": [],
   "execution_count": 6
  },
  {
   "metadata": {
    "ExecuteTime": {
     "end_time": "2024-06-28T01:14:09.290660Z",
     "start_time": "2024-06-28T01:14:09.279405Z"
    }
   },
   "cell_type": "code",
   "source": "df.shape",
   "id": "4ef11f3de21b8093",
   "outputs": [
    {
     "data": {
      "text/plain": [
       "(46646, 14)"
      ]
     },
     "execution_count": 7,
     "metadata": {},
     "output_type": "execute_result"
    }
   ],
   "execution_count": 7
  },
  {
   "metadata": {
    "ExecuteTime": {
     "end_time": "2024-06-28T01:15:03.012553Z",
     "start_time": "2024-06-28T01:15:02.972190Z"
    }
   },
   "cell_type": "code",
   "source": "df.isna().mean() * 100",
   "id": "7a708f564dd74056",
   "outputs": [
    {
     "data": {
      "text/plain": [
       "Unnamed: 0           0.000000\n",
       "Movie ID             0.000000\n",
       "Title                0.156498\n",
       "IMDB Rating         46.467007\n",
       "Directors            7.156026\n",
       "Writers              7.156026\n",
       "Stars                7.156026\n",
       "Storyline            9.181923\n",
       "Origin Countries     4.255456\n",
       "Languages            6.883763\n",
       "Budget              68.383141\n",
       "Gross Worldwide     62.221841\n",
       "Runtime             12.564850\n",
       "Genres               0.158642\n",
       "dtype: float64"
      ]
     },
     "execution_count": 9,
     "metadata": {},
     "output_type": "execute_result"
    }
   ],
   "execution_count": 9
  },
  {
   "metadata": {
    "ExecuteTime": {
     "end_time": "2024-06-28T01:15:39.936681Z",
     "start_time": "2024-06-28T01:15:39.897030Z"
    }
   },
   "cell_type": "code",
   "source": "df.isna().sum()",
   "id": "c083cc2141386a31",
   "outputs": [
    {
     "data": {
      "text/plain": [
       "Unnamed: 0              0\n",
       "Movie ID                0\n",
       "Title                  73\n",
       "IMDB Rating         21675\n",
       "Directors            3338\n",
       "Writers              3338\n",
       "Stars                3338\n",
       "Storyline            4283\n",
       "Origin Countries     1985\n",
       "Languages            3211\n",
       "Budget              31898\n",
       "Gross Worldwide     29024\n",
       "Runtime              5861\n",
       "Genres                 74\n",
       "dtype: int64"
      ]
     },
     "execution_count": 10,
     "metadata": {},
     "output_type": "execute_result"
    }
   ],
   "execution_count": 10
  },
  {
   "metadata": {
    "ExecuteTime": {
     "end_time": "2024-06-28T01:19:09.977945Z",
     "start_time": "2024-06-28T01:19:09.956181Z"
    }
   },
   "cell_type": "code",
   "source": [
    "# Conversion rates\n",
    "exchange_rates = {\n",
    "    '$': 1.0,  # USD to USD (base currency)\n",
    "    '€': 1.13,  # EUR to USD\n",
    "    'FRF\\xa0': 0.18,  # FRF to USD (Note: FRF is the French Franc, not in use anymore)\n",
    "    '£': 1.41  # GBP to USD\n",
    "}\n",
    "\n",
    "\n",
    "# Function to convert to USD\n",
    "def convert_to_usd(amount):\n",
    "    if isinstance(amount, str):\n",
    "        if amount.startswith('$'):\n",
    "            return float(amount[1:].replace(',', ''))  # Remove '$' and commas, convert to float\n",
    "        elif amount.startswith('€'):\n",
    "            return float(amount[1:].replace(',', '')) * exchange_rates['€']\n",
    "        elif amount.startswith('FRF\\xa0'):\n",
    "            return float(amount[4:].replace(',', '')) * exchange_rates['FRF\\xa0']\n",
    "        elif amount.startswith('£'):\n",
    "            return float(amount[1:].replace(',', '')) * exchange_rates['£']\n",
    "        else:\n",
    "            return None  # Return None for unsupported currencies\n",
    "    else:\n",
    "        return None  # Return None for non-string types\n",
    "\n",
    "\n",
    "df['Gross_Worldwide_USD'] = df['Gross Worldwide'].apply(convert_to_usd)"
   ],
   "id": "202c7e77e62af72",
   "outputs": [],
   "execution_count": 12
  },
  {
   "metadata": {
    "ExecuteTime": {
     "end_time": "2024-06-28T01:19:16.463989Z",
     "start_time": "2024-06-28T01:19:16.448020Z"
    }
   },
   "cell_type": "code",
   "source": "df.head()",
   "id": "fd51387c553efe7f",
   "outputs": [
    {
     "data": {
      "text/plain": [
       "   Unnamed: 0    Movie ID              Title  IMDB Rating        Directors  \\\n",
       "0           0   tt0060437  Funeral in Berlin          6.8    ​Guy Hamilton   \n",
       "1           1   tt0098300               Shag          NaN    ​Zelda Barron   \n",
       "2           2   tt1853739        You're Next          6.6    ​Adam Wingard   \n",
       "3           3  tt22036900        Covid Karma          NaN  ​Biju Viswanath   \n",
       "4           4   tt0419434  American Hardcore          NaN    ​Paul Rachman   \n",
       "\n",
       "                                             Writers  \\\n",
       "0                         ​Len Deighton, ​Evan Jones   \n",
       "1  , ​Lanier Laney, ​Terry Sweeney, ​Robin Swicord,    \n",
       "2                                     ​Simon Barrett   \n",
       "3  noneStars, ​Rodney Norman, ​Christine Ohlman, ...   \n",
       "4              noneWriter, ​Steven Blush, noneWriter   \n",
       "\n",
       "                                               Stars  \\\n",
       "0  , ​Michael Caine, ​Oscar Homolka, ​Paul Hubsch...   \n",
       "1   , ​Phoebe Cates, ​Bridget Fonda, ​Scott Coffey,    \n",
       "2       , ​Sharni Vinson, ​Joe Swanberg, ​AJ Bowen,    \n",
       "3                                    ​Biju Viswanath   \n",
       "4      , ​Greg Ginn, ​Ian MacKaye, ​James Drescher,    \n",
       "\n",
       "                                           Storyline  \\\n",
       "0  Sent to East Berlin to retrieve a Communist de...   \n",
       "1  Summer of 1963. Carson is getting married to h...   \n",
       "2  When the Davison family comes under attack dur...   \n",
       "3  An Indian film maker is stuck in USA for five ...   \n",
       "4        The History of American Punk Rock 1980-1986   \n",
       "\n",
       "                Origin Countries        Languages                  Budget  \\\n",
       "0                 United Kingdom  English, German                     NaN   \n",
       "1  United States, United Kingdom          English  $5,000,000 (estimated)   \n",
       "2  United States, United Kingdom          English  $1,000,000 (estimated)   \n",
       "3                  United States          English                     NaN   \n",
       "4                  United States          English                     NaN   \n",
       "\n",
       "  Gross Worldwide            Runtime                       Genres  \\\n",
       "0            $183  1 hour 42 minutes                     Thriller   \n",
       "1      $6,957,975  1 hour 38 minutes       Comedy, Drama, Romance   \n",
       "2     $26,895,481  1 hour 35 minutes      Drama, Horror, Thriller   \n",
       "3             NaN    1 hour 1 minute            Biography, Comedy   \n",
       "4        $376,057  1 hour 40 minutes  Documentary, History, Music   \n",
       "\n",
       "   Gross_Worldwide_USD  \n",
       "0                183.0  \n",
       "1            6957975.0  \n",
       "2           26895481.0  \n",
       "3                  NaN  \n",
       "4             376057.0  "
      ],
      "text/html": [
       "<div>\n",
       "<style scoped>\n",
       "    .dataframe tbody tr th:only-of-type {\n",
       "        vertical-align: middle;\n",
       "    }\n",
       "\n",
       "    .dataframe tbody tr th {\n",
       "        vertical-align: top;\n",
       "    }\n",
       "\n",
       "    .dataframe thead th {\n",
       "        text-align: right;\n",
       "    }\n",
       "</style>\n",
       "<table border=\"1\" class=\"dataframe\">\n",
       "  <thead>\n",
       "    <tr style=\"text-align: right;\">\n",
       "      <th></th>\n",
       "      <th>Unnamed: 0</th>\n",
       "      <th>Movie ID</th>\n",
       "      <th>Title</th>\n",
       "      <th>IMDB Rating</th>\n",
       "      <th>Directors</th>\n",
       "      <th>Writers</th>\n",
       "      <th>Stars</th>\n",
       "      <th>Storyline</th>\n",
       "      <th>Origin Countries</th>\n",
       "      <th>Languages</th>\n",
       "      <th>Budget</th>\n",
       "      <th>Gross Worldwide</th>\n",
       "      <th>Runtime</th>\n",
       "      <th>Genres</th>\n",
       "      <th>Gross_Worldwide_USD</th>\n",
       "    </tr>\n",
       "  </thead>\n",
       "  <tbody>\n",
       "    <tr>\n",
       "      <th>0</th>\n",
       "      <td>0</td>\n",
       "      <td>tt0060437</td>\n",
       "      <td>Funeral in Berlin</td>\n",
       "      <td>6.8</td>\n",
       "      <td>​Guy Hamilton</td>\n",
       "      <td>​Len Deighton, ​Evan Jones</td>\n",
       "      <td>, ​Michael Caine, ​Oscar Homolka, ​Paul Hubsch...</td>\n",
       "      <td>Sent to East Berlin to retrieve a Communist de...</td>\n",
       "      <td>United Kingdom</td>\n",
       "      <td>English, German</td>\n",
       "      <td>NaN</td>\n",
       "      <td>$183</td>\n",
       "      <td>1 hour 42 minutes</td>\n",
       "      <td>Thriller</td>\n",
       "      <td>183.0</td>\n",
       "    </tr>\n",
       "    <tr>\n",
       "      <th>1</th>\n",
       "      <td>1</td>\n",
       "      <td>tt0098300</td>\n",
       "      <td>Shag</td>\n",
       "      <td>NaN</td>\n",
       "      <td>​Zelda Barron</td>\n",
       "      <td>, ​Lanier Laney, ​Terry Sweeney, ​Robin Swicord,</td>\n",
       "      <td>, ​Phoebe Cates, ​Bridget Fonda, ​Scott Coffey,</td>\n",
       "      <td>Summer of 1963. Carson is getting married to h...</td>\n",
       "      <td>United States, United Kingdom</td>\n",
       "      <td>English</td>\n",
       "      <td>$5,000,000 (estimated)</td>\n",
       "      <td>$6,957,975</td>\n",
       "      <td>1 hour 38 minutes</td>\n",
       "      <td>Comedy, Drama, Romance</td>\n",
       "      <td>6957975.0</td>\n",
       "    </tr>\n",
       "    <tr>\n",
       "      <th>2</th>\n",
       "      <td>2</td>\n",
       "      <td>tt1853739</td>\n",
       "      <td>You're Next</td>\n",
       "      <td>6.6</td>\n",
       "      <td>​Adam Wingard</td>\n",
       "      <td>​Simon Barrett</td>\n",
       "      <td>, ​Sharni Vinson, ​Joe Swanberg, ​AJ Bowen,</td>\n",
       "      <td>When the Davison family comes under attack dur...</td>\n",
       "      <td>United States, United Kingdom</td>\n",
       "      <td>English</td>\n",
       "      <td>$1,000,000 (estimated)</td>\n",
       "      <td>$26,895,481</td>\n",
       "      <td>1 hour 35 minutes</td>\n",
       "      <td>Drama, Horror, Thriller</td>\n",
       "      <td>26895481.0</td>\n",
       "    </tr>\n",
       "    <tr>\n",
       "      <th>3</th>\n",
       "      <td>3</td>\n",
       "      <td>tt22036900</td>\n",
       "      <td>Covid Karma</td>\n",
       "      <td>NaN</td>\n",
       "      <td>​Biju Viswanath</td>\n",
       "      <td>noneStars, ​Rodney Norman, ​Christine Ohlman, ...</td>\n",
       "      <td>​Biju Viswanath</td>\n",
       "      <td>An Indian film maker is stuck in USA for five ...</td>\n",
       "      <td>United States</td>\n",
       "      <td>English</td>\n",
       "      <td>NaN</td>\n",
       "      <td>NaN</td>\n",
       "      <td>1 hour 1 minute</td>\n",
       "      <td>Biography, Comedy</td>\n",
       "      <td>NaN</td>\n",
       "    </tr>\n",
       "    <tr>\n",
       "      <th>4</th>\n",
       "      <td>4</td>\n",
       "      <td>tt0419434</td>\n",
       "      <td>American Hardcore</td>\n",
       "      <td>NaN</td>\n",
       "      <td>​Paul Rachman</td>\n",
       "      <td>noneWriter, ​Steven Blush, noneWriter</td>\n",
       "      <td>, ​Greg Ginn, ​Ian MacKaye, ​James Drescher,</td>\n",
       "      <td>The History of American Punk Rock 1980-1986</td>\n",
       "      <td>United States</td>\n",
       "      <td>English</td>\n",
       "      <td>NaN</td>\n",
       "      <td>$376,057</td>\n",
       "      <td>1 hour 40 minutes</td>\n",
       "      <td>Documentary, History, Music</td>\n",
       "      <td>376057.0</td>\n",
       "    </tr>\n",
       "  </tbody>\n",
       "</table>\n",
       "</div>"
      ]
     },
     "execution_count": 13,
     "metadata": {},
     "output_type": "execute_result"
    }
   ],
   "execution_count": 13
  },
  {
   "metadata": {},
   "cell_type": "code",
   "outputs": [],
   "execution_count": null,
   "source": "",
   "id": "333d08dbca23e1c4"
  }
 ],
 "metadata": {
  "kernelspec": {
   "display_name": "Python 3",
   "language": "python",
   "name": "python3"
  },
  "language_info": {
   "codemirror_mode": {
    "name": "ipython",
    "version": 2
   },
   "file_extension": ".py",
   "mimetype": "text/x-python",
   "name": "python",
   "nbconvert_exporter": "python",
   "pygments_lexer": "ipython2",
   "version": "2.7.6"
  }
 },
 "nbformat": 4,
 "nbformat_minor": 5
}
